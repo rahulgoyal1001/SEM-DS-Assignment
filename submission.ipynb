{
 "cells": [
  {
   "cell_type": "code",
   "execution_count": 12,
   "id": "a287ff50",
   "metadata": {},
   "outputs": [],
   "source": [
    "for a in range(1,4):\n",
    "#running a loop for all input files\n",
    "    def safeguard(curr, prev, node):\n",
    "        b = max(node[curr][1] - node[prev][1], 0) - max(node[curr][0] - node[prev][1], 0)\n",
    "        return b\n",
    "\n",
    "    num = None\n",
    "    node = None\n",
    "\n",
    "    inputFile = str(a) + \".in\"\n",
    "    with open(inputFile, 'r') as file:\n",
    "        lines = [line.strip() for line in file]\n",
    "#         print(lines)\n",
    "        num = int(lines[0])\n",
    "#         print(num)\n",
    "        node = [[0,0] for _ in range(num+1) ]\n",
    "#         print(node)\n",
    "        for x in range(1, num+1):\n",
    "            node[x] = list(map(int, lines[x].split()))\n",
    "#             print(node[x])\n",
    "\n",
    "    node.sort()\n",
    "#     print(node)\n",
    "\n",
    "    state = [[0,0] for i in range(num+1)]\n",
    "    higher = [0] * (num+1)\n",
    "    \n",
    "# calculating actual coverage and eliminating the guard\n",
    "\n",
    "    for y in range(1, num+1):\n",
    "        if y < num:\n",
    "            state[y][0] = state[y-1][0] + safeguard(y, higher[y-1], node)\n",
    "            if ( node[higher[y-1]][1] > node[y][1]):\n",
    "                higher[y] = higher[y-1]\n",
    "#                 print(higher[y])\n",
    "            else:\n",
    "                higher[y] = y\n",
    "#                 print(higher[y])\n",
    "\n",
    "        if y > 1:\n",
    "#             print(max(state[y - 1][1] + safeguard(y, higher[y - 1], node), state[y - 2][0] + safeguard(y, higher[y - 2], node)))\n",
    "            state[y][1] = max(state[y - 1][1] + safeguard(y, higher[y - 1], node), state[y - 2][0] + safeguard(y, higher[y - 2], node))\n",
    "\n",
    "    remove = max(state[-1][1], state[-2][0])\n",
    "#     print(remove)\n",
    "    \n",
    "    #writing output\n",
    "    outputFile = str(a) + \".out\"\n",
    "    with open(outputFile, 'w') as file:\n",
    "        file.write(str(remove))"
   ]
  },
  {
   "cell_type": "code",
   "execution_count": null,
   "id": "821703d1",
   "metadata": {},
   "outputs": [],
   "source": []
  },
  {
   "cell_type": "code",
   "execution_count": null,
   "id": "634b9b28",
   "metadata": {},
   "outputs": [],
   "source": []
  }
 ],
 "metadata": {
  "kernelspec": {
   "display_name": "Python 3 (ipykernel)",
   "language": "python",
   "name": "python3"
  },
  "language_info": {
   "codemirror_mode": {
    "name": "ipython",
    "version": 3
   },
   "file_extension": ".py",
   "mimetype": "text/x-python",
   "name": "python",
   "nbconvert_exporter": "python",
   "pygments_lexer": "ipython3",
   "version": "3.9.12"
  }
 },
 "nbformat": 4,
 "nbformat_minor": 5
}
